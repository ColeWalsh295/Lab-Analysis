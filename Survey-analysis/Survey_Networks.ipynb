{
 "cells": [
  {
   "cell_type": "markdown",
   "metadata": {},
   "source": [
    "# Load packages"
   ]
  },
  {
   "cell_type": "code",
   "execution_count": 1,
   "metadata": {},
   "outputs": [],
   "source": [
    "import pandas as pd\n",
    "import json\n",
    "from glob import glob\n",
    "import re\n",
    "from Levenshtein import distance as levenshtein_distance\n",
    "from itertools import product"
   ]
  },
  {
   "cell_type": "markdown",
   "metadata": {},
   "source": [
    "# Clean data (export wide form data for CDER group)"
   ]
  },
  {
   "cell_type": "code",
   "execution_count": 8,
   "metadata": {},
   "outputs": [],
   "source": [
    "files = [f for f in glob('C:/Users/Cole/Documents/DATA/Network_DATA/*') if 'wide' not in f]\n",
    "for f in files:\n",
    "    df = pd.read_csv(f)\n",
    "    df.question_content = df.question_content.apply(json.loads)\n",
    "    df.answers = df.answers.apply(json.loads)\n",
    "\n",
    "    ids = df.user_id.unique()\n",
    "    student_data = []\n",
    "    for id in ids:\n",
    "        df_one = df.loc[df.user_id == id, :].reset_index(drop = True)\n",
    "        wide_data = {'user_id':df_one.loc[0, 'user_id'], 'name':df_one.loc[0, 'name']}\n",
    "        for r, data in df_one.iterrows():\n",
    "            questions = data['question_content']\n",
    "            questions = [q['value'] for q in questions if q['type'] == 'text']\n",
    "\n",
    "            answers = data['answers']\n",
    "            answers = [answers[a] for a in answers.keys()] \n",
    "            wide_data.update(dict(zip(questions, answers)))\n",
    "\n",
    "        student_data.append(wide_data)\n",
    "    pd.DataFrame.from_dict(student_data).to_csv(f[:-4] + '_wide.csv', index = False)"
   ]
  },
  {
   "cell_type": "markdown",
   "metadata": {},
   "source": [
    "# Load and clean network data"
   ]
  },
  {
   "cell_type": "code",
   "execution_count": 7,
   "metadata": {},
   "outputs": [],
   "source": [
    "cols = ['user_id', 'name', \n",
    "        'Please list any students in this physics class that you think are particularly strong in the lecture/discussion section material.', \n",
    "        'Please list any students in this physics class that you had a meaningful interaction* with about other aspects of the course this week.',\n",
    "        'Please list any students in this physics class that you think are particularly strong in the lab material.',\n",
    "        'Please list any students in this physics class that you had a meaningful interaction* with about lab material this week.']\n",
    "wide_files = glob('C:/Users/Cole/Documents/DATA/Network_DATA/*wide.csv')\n",
    "\n",
    "for f in wide_files:\n",
    "    df = pd.read_csv(f, usecols = cols)[cols].rename(columns = dict(zip(cols, ['user_id', 'name', 'strong_lect_disc', \n",
    "                                                                               'meaning_other', 'strong_lab', \n",
    "                                                                               'meaning_lab']))).fillna('')\n",
    "    df.name = df.name.str.lower()\n",
    "    df.strong_lect_disc = df.strong_lect_disc.str.lower()\n",
    "    df.meaning_other = df.meaning_other.str.lower()\n",
    "    df.strong_lab = df.strong_lab.str.lower()\n",
    "    df.meaning_lab = df.meaning_lab.str.lower()\n",
    "\n",
    "    df['first_name'] = df.name.str.split(' ', n = 1, expand = True)[0]\n",
    "    df['last_name'] = df.name.str.split(' ').str[-1]\n",
    "    df['duplicated_first'] = df.duplicated(subset = 'first_name', keep = False)\n",
    "    df['duplicated_last'] = df.duplicated(subset = 'last_name', keep = False)\n",
    "    df.loc[df.duplicated_first == True, 'first_name'] = ''\n",
    "    df.loc[df.duplicated_last == True, 'last_name'] = ''\n",
    "    df = df.drop(columns = ['duplicated_first', 'duplicated_last'])\n",
    "\n",
    "    df['full_name'] = df.name.str.replace(' ', '')\n",
    "\n",
    "    dfs = []\n",
    "    for attr in ['strong_lect_disc', 'meaning_other', 'strong_lab', 'meaning_lab']:\n",
    "        connections = []\n",
    "        for r, data in df.iterrows():\n",
    "            sentence = data[attr]\n",
    "            tokens = re.split(' |,|\\n|;|\\.', sentence)\n",
    "            tokens = [t for t in tokens if t != '']\n",
    "\n",
    "            first_names = [n for n in list(df.first_name) if n != '']\n",
    "            student_connections = [pair[1] for pair in list(product(tokens, first_names)) if levenshtein_distance(pair[0], \n",
    "                                                                                                                  pair[1]) == 0]\n",
    "            if student_connections:\n",
    "                connections.append(list(product([data['name']], df.loc[df.first_name.isin(student_connections), \n",
    "                                                                       'name'].tolist())))\n",
    "\n",
    "            last_names = [n for n in list(df.last_name) if n != '']\n",
    "            student_connections = [pair[1] for pair in list(product(tokens, last_names)) if levenshtein_distance(pair[0], \n",
    "                                                                                                                 pair[1]) == 0]\n",
    "            if student_connections:\n",
    "                connections.append(list(product([data['name']], df.loc[df.last_name.isin(student_connections), \n",
    "                                                                       'name'].tolist())))\n",
    "\n",
    "            paired_tokens = [''.join(pair) for pair in zip(tokens[:-1], tokens[1:])]\n",
    "            full_names = list(df.full_name)\n",
    "            student_connections = [pair[1] for pair in list(product(paired_tokens, \n",
    "                                                                    full_names)) if levenshtein_distance(pair[0], pair[1]) <= \n",
    "                                   0.3 * len(pair[1])]\n",
    "            \n",
    "            if student_connections:\n",
    "                connections.append(list(product([data['name']], df.loc[df.full_name.isin(student_connections), \n",
    "                                                                       'name'].tolist())))\n",
    "\n",
    "        edgelist = pd.DataFrame(sorted(list(set([c for student in connections for c in student]))), columns = ['From', 'To'])\n",
    "        edgelist['attr'] = attr\n",
    "        dfs.append(edgelist)\n",
    "    df_out = pd.concat(dfs, axis = 0).reset_index(drop = True)\n",
    "    df_out.to_csv(f[:-8] + 'edgelist.csv', index = False)\n",
    "    \n",
    "    df_out[['From', 'To']] = df_out[['From', 'To']].stack().rank(method = 'dense').astype(int).unstack()\n",
    "    df_out.to_csv(f[:-8] + 'edgelist_anon.csv', index = False)"
   ]
  }
 ],
 "metadata": {
  "kernelspec": {
   "display_name": "Python 3",
   "language": "python",
   "name": "python3"
  },
  "language_info": {
   "codemirror_mode": {
    "name": "ipython",
    "version": 3
   },
   "file_extension": ".py",
   "mimetype": "text/x-python",
   "name": "python",
   "nbconvert_exporter": "python",
   "pygments_lexer": "ipython3",
   "version": "3.6.10"
  }
 },
 "nbformat": 4,
 "nbformat_minor": 4
}
