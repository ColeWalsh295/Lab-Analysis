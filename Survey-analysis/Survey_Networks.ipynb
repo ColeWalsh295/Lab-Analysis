{
 "cells": [
  {
   "cell_type": "markdown",
   "metadata": {},
   "source": [
    "# Load packages"
   ]
  },
  {
   "cell_type": "code",
   "execution_count": 1,
   "metadata": {},
   "outputs": [],
   "source": [
    "import pandas as pd\n",
    "import json\n",
    "from glob import glob\n",
    "import re\n",
    "from Levenshtein import distance as levenshtein_distance\n",
    "from itertools import product"
   ]
  },
  {
   "cell_type": "markdown",
   "metadata": {},
   "source": [
    "# Clean data (export wide form data for CDER group)"
   ]
  },
  {
   "cell_type": "code",
   "execution_count": 2,
   "metadata": {},
   "outputs": [],
   "source": [
    "files = [f for f in glob('C:/Users/Cole/Documents/DATA/Network_DATA/Fall2020_MID/*') if 'wide' not in f and 'edgelist' not in f]\n",
    "for f in files:\n",
    "    df = pd.read_csv(f)\n",
    "    df.question_content = df.question_content.apply(json.loads)\n",
    "    df.answers = df.answers.apply(json.loads)\n",
    "\n",
    "    ids = df.user_id.unique()\n",
    "    student_data = []\n",
    "    for id in ids:\n",
    "        df_one = df.loc[df.user_id == id, :].reset_index(drop = True)\n",
    "        wide_data = {'user_id':df_one.loc[0, 'user_id'], 'name':df_one.loc[0, 'name']}\n",
    "        for r, data in df_one.iterrows():\n",
    "            questions = data['question_content']\n",
    "            questions = [q['value'] for q in questions if q['type'] == 'text']\n",
    "\n",
    "            answers = data['answers']\n",
    "            answers = [answers[a] for a in answers.keys()] \n",
    "            wide_data.update(dict(zip(questions, answers)))\n",
    "\n",
    "        student_data.append(wide_data)\n",
    "    pd.DataFrame.from_dict(student_data).to_csv(f[:-4] + '_wide.csv', index = False)"
   ]
  },
  {
   "cell_type": "markdown",
   "metadata": {},
   "source": [
    "# Load and clean network data function"
   ]
  },
  {
   "cell_type": "code",
   "execution_count": 26,
   "metadata": {},
   "outputs": [],
   "source": [
    "def CreateEdgelist(file, cols, roster_file = None, csv_skip = None, merge_name = False, first_name_col = None, last_name_col = None):\n",
    "    df = pd.read_csv(file, usecols = cols, skiprows = csv_skip)[cols]\n",
    "    cols2 = cols.copy()\n",
    "    if merge_name:\n",
    "        df['name'] = df[first_name_col].fillna('') + ' ' + df[last_name_col].fillna('')\n",
    "        cols2 = [[cols[0]], ['name'], cols[-4:]]\n",
    "        cols2 = [c for sublist in cols2 for c in sublist]\n",
    "        df = df[cols2]\n",
    "    df = df.rename(columns = dict(zip(cols2, ['user_id', 'name', 'strong_lect_disc', 'meaning_other', 'strong_lab', \n",
    "                                              'meaning_lab']))).fillna('')\n",
    "    df.name = df.name.str.lower()\n",
    "    df.strong_lect_disc = df.strong_lect_disc.str.lower()\n",
    "    df.meaning_other = df.meaning_other.str.lower()\n",
    "    df.strong_lab = df.strong_lab.str.lower()\n",
    "    df.meaning_lab = df.meaning_lab.str.lower()\n",
    "\n",
    "    if roster_file is not None:\n",
    "        df_reference = pd.read_csv(roster_file, \n",
    "                                   usecols = ['First Name', \n",
    "                                              'Last Name'])[['First Name', \n",
    "                                                             'Last Name']].rename(columns = {'First Name':'first_name', \n",
    "                                                                                             'Last Name':'last_name'})\n",
    "        df_reference.first_name = df_reference.first_name.str.lower()\n",
    "        df_reference.last_name = df_reference.last_name.str.lower()\n",
    "        df_reference['name'] = df_reference.first_name + ' ' + df_reference.last_name\n",
    "    else:\n",
    "        df_reference = df.copy()\n",
    "        df_reference['first_name'] = df_reference.name.str.split(' ', n = 1, expand = True)[0]\n",
    "        df_reference['last_name'] = df_reference.name.str.split(' ').str[-1]\n",
    "    \n",
    "    df_reference['full_name'] = df_reference.name.str.replace(' ', '')\n",
    "    df_reference['duplicated_first'] = df_reference.duplicated(subset = 'first_name', keep = False)\n",
    "    df_reference['duplicated_last'] = df_reference.duplicated(subset = 'last_name', keep = False)\n",
    "    df_reference.loc[df_reference.duplicated_first == True, 'first_name'] = ''\n",
    "    df_reference.loc[df_reference.duplicated_last == True, 'last_name'] = ''\n",
    "    df_reference = df_reference.drop(columns = ['duplicated_first', 'duplicated_last'])\n",
    "\n",
    "    dfs = []\n",
    "    for attr in ['strong_lect_disc', 'meaning_other', 'strong_lab', 'meaning_lab']:\n",
    "        connections = []\n",
    "        for r, data in df.iterrows():\n",
    "            sentence = data[attr]\n",
    "            tokens = re.split(' |,|\\n|;|\\.', sentence)\n",
    "            tokens = [t for t in tokens if t != '']\n",
    "\n",
    "            first_names = [n for n in list(df_reference.first_name) if n != '']\n",
    "            student_connections = [pair[1] for pair in list(product(tokens, first_names)) if levenshtein_distance(pair[0], \n",
    "                                                                                                                  pair[1]) == 0]\n",
    "            if student_connections:\n",
    "                connections.append(list(product([data['name']], \n",
    "                                                df_reference.loc[df_reference.first_name.isin(student_connections), \n",
    "                                                                 'name'].tolist())))\n",
    "\n",
    "            last_names = [n for n in list(df_reference.last_name) if n != '']\n",
    "            student_connections = [pair[1] for pair in list(product(tokens, last_names)) if levenshtein_distance(pair[0], \n",
    "                                                                                                                 pair[1]) == 0]\n",
    "            if student_connections:\n",
    "                connections.append(list(product([data['name']], \n",
    "                                                df_reference.loc[df_reference.last_name.isin(student_connections), \n",
    "                                                                 'name'].tolist())))\n",
    "\n",
    "            paired_tokens = [''.join(pair) for pair in zip(tokens[:-1], tokens[1:])]\n",
    "            full_names = list(df_reference.full_name)\n",
    "            student_connections = [pair[1] for pair in list(product(paired_tokens, \n",
    "                                                                    full_names)) if levenshtein_distance(pair[0], pair[1]) <= \n",
    "                                   0.3 * len(pair[1])]\n",
    "\n",
    "            if student_connections:\n",
    "                connections.append(list(product([data['name']], \n",
    "                                                df_reference.loc[df_reference.full_name.isin(student_connections),\n",
    "                                                                 'name'].tolist())))\n",
    "\n",
    "        edgelist = pd.DataFrame(sorted(list(set([c for student in connections for c in student]))), columns = ['From', 'To'])\n",
    "        edgelist['attr'] = attr\n",
    "        dfs.append(edgelist)\n",
    "    df_out = pd.concat(dfs, axis = 0).reset_index(drop = True)\n",
    "    df_out = df_out[(df_out['From'].map(len) > 1) & (df_out['To'].map(len) > 1)]\n",
    "    df_out.to_csv(file[:-8] + 'edgelist.csv', index = False)\n",
    "\n",
    "    df_out[['From', 'To']] = df_out[['From', 'To']].stack().rank(method = 'dense').astype(int).unstack()\n",
    "    df_out.to_csv(file[:-8] + 'edgelist_anon.csv', index = False)"
   ]
  },
  {
   "cell_type": "code",
   "execution_count": 8,
   "metadata": {},
   "outputs": [],
   "source": [
    "cols_Fall2020MID = ['user_id', 'name', \n",
    "                    'Please list any students in this physics class that you think are particularly strong in the lecture/discussion section material.', \n",
    "                    'Please list any students in this physics class that you had a meaningful interaction* with about other aspects of the course this week.',\n",
    "                    'Please list any students in this physics class that you think are particularly strong in the lab material.',\n",
    "                    'Please list any students in this physics class that you had a meaningful interaction* with about lab material this week.']\n",
    "for f in glob('C:/Users/Cole/Documents/DATA/Network_DATA/Fall2020_MID/*wide.csv'):\n",
    "    CreateEdgelist(f, cols_Fall2020MID)"
   ]
  },
  {
   "cell_type": "code",
   "execution_count": 30,
   "metadata": {},
   "outputs": [],
   "source": [
    "cols_Fall2020POST1112 = ['Q5a', 'Q5b', 'Q5c', 'Q143', 'Q141', 'Q142', 'Q139']\n",
    "CreateEdgelist('C:/Users/Cole/Documents/DATA/Network_DATA/Fall2020_POST/Fall2020_Cornell_University_Phys_1112_Holmes_POST_R_3QW82bxsvpr9AiT_January+10,+2021_17.39.csv', \n",
    "               cols_Fall2020POST1112, \n",
    "               roster_file = 'C:/Users/Cole/Documents/DATA/Network_DATA/Rosters/PHYS1112_Fall_2020_roster.csv', \n",
    "               csv_skip = [1, 2], merge_name = True, first_name_col = 'Q5c', last_name_col = 'Q5b')\n",
    "\n",
    "cols_Fall2020POST1116_2218 = ['Q5a', 'Q5b', 'Q5c', 'Q222.1', 'Q218', 'Q220.1', 'Q216']\n",
    "CreateEdgelist('C:/Users/Cole/Documents/DATA/Network_DATA/Fall2020_POST/Fall2020_Cornell_University_Phys_1116_Holmes_POST_R_2SxhUhMaXEhvmoi_January+10,+2021_17.39.csv', \n",
    "               cols_Fall2020POST1116_2218, \n",
    "               roster_file = 'C:/Users/Cole/Documents/DATA/Network_DATA/Rosters/PHYS1116_Fall_2020_roster.csv',\n",
    "               csv_skip = [1, 2], merge_name = True, first_name_col = 'Q5c', last_name_col = 'Q5b')\n",
    "\n",
    "cols_Fall2020POST2213 = ['Q5a', 'Q5b', 'Q5c', 'Q222', 'Q218', 'Q220.1', 'Q216']\n",
    "CreateEdgelist('C:/Users/Cole/Documents/DATA/Network_DATA/Fall2020_POST/Fall2020_Cornell_University_Phys_2213_Holmes_POST_R_ZfQFj15tAmokZR7_January+10,+2021_17.39.csv', \n",
    "               cols_Fall2020POST2213, \n",
    "               roster_file = 'C:/Users/Cole/Documents/DATA/Network_DATA/Rosters/PHYS2213_Fall_2020_roster.csv',\n",
    "               csv_skip = [1, 2], merge_name = True, first_name_col = 'Q5c', last_name_col = 'Q5b')\n",
    "\n",
    "CreateEdgelist('C:/Users/Cole/Documents/DATA/Network_DATA/Fall2020_POST/Fall2020_Cornell_University_Phys_2218_Holmes_POST_R_2723pk178fyXrG5_January+10,+2021_17.40.csv', \n",
    "               cols_Fall2020POST1116_2218, \n",
    "               roster_file = 'C:/Users/Cole/Documents/DATA/Network_DATA/Rosters/PHYS2218_Fall_2020_roster.csv',\n",
    "               csv_skip = [1, 2], merge_name = True, first_name_col = 'Q5c', last_name_col = 'Q5b')"
   ]
  },
  {
   "cell_type": "code",
   "execution_count": 29,
   "metadata": {},
   "outputs": [
    {
     "data": {
      "text/plain": [
       "Index(['EndDate', 'Status', 'IPAddress', 'Progress', 'Duration (in seconds)',\n",
       "       'Finished', 'RecordedDate', 'ResponseId', 'RecipientLastName',\n",
       "       'RecipientFirstName', 'RecipientEmail', 'ExternalReference',\n",
       "       'LocationLatitude', 'LocationLongitude', 'DistributionChannel',\n",
       "       'UserLanguage', 'QID172040033', 'Q373', 'Q373_10_TEXT', 'Q373_11_TEXT',\n",
       "       'Q373_9_TEXT', 'Q374', 'Q374_2_TEXT', 'Q375_2', 'Q375_1', 'Q375_3',\n",
       "       'Q375_5', 'Q375_4', 'Q218_1', 'Q218_2', 'Q218_3', 'Q218_4', 'Q218_5',\n",
       "       'Q376', 'Q376_4_TEXT', 'Q220', 'Q220_4_TEXT', 'Q377', 'Q377_4_TEXT',\n",
       "       'Q222', 'Q222_4_TEXT', 'Q378', 'Q363_1', 'Q363_2', 'Q363_3', 'Q363_4',\n",
       "       'Q364_First Click', 'Q364_Last Click', 'Q364_Page Submit',\n",
       "       'Q364_Click Count', 'Q365_1', 'Q365_2', 'Q365_3', 'Q365_4', 'Q365_5',\n",
       "       'Q365_6', 'Q365_7', 'Q365_8', 'Q365_9', 'Q365_10', 'Q366_First Click',\n",
       "       'Q366_Last Click', 'Q366_Page Submit', 'Q366_Click Count', 'Q367_1',\n",
       "       'Q367_2', 'Q367_3', 'Q367_4', 'Q367_5', 'Q367_6', 'Q368_First Click',\n",
       "       'Q368_Last Click', 'Q368_Page Submit', 'Q368_Click Count', 'Q369_1',\n",
       "       'Q369_2', 'Q369_3', 'Q370_First Click', 'Q370_Last Click',\n",
       "       'Q370_Page Submit', 'Q370_Click Count', 'Q371_1', 'Q371_2', 'Q371_3',\n",
       "       'Q371_4', 'Q212_1', 'Q212_2', 'Q212_3', 'Q212_4', 'Q216', 'Q218',\n",
       "       'Q220.1', 'Q222.1', 'Q5a', 'Q5b', 'Q5c', 'Q6a', 'Q6a_8_TEXT', 'Q6b'],\n",
       "      dtype='object')"
      ]
     },
     "execution_count": 29,
     "metadata": {},
     "output_type": "execute_result"
    }
   ],
   "source": [
    "pd.read_csv('C:/Users/Cole/Documents/DATA/Network_DATA/Fall2020_POST/Fall2020_Cornell_University_Phys_2218_Holmes_POST_R_2723pk178fyXrG5_January+10,+2021_17.40.csv').columns[1:100]"
   ]
  }
 ],
 "metadata": {
  "kernelspec": {
   "display_name": "Python 3",
   "language": "python",
   "name": "python3"
  },
  "language_info": {
   "codemirror_mode": {
    "name": "ipython",
    "version": 3
   },
   "file_extension": ".py",
   "mimetype": "text/x-python",
   "name": "python",
   "nbconvert_exporter": "python",
   "pygments_lexer": "ipython3",
   "version": "3.6.10"
  }
 },
 "nbformat": 4,
 "nbformat_minor": 4
}
